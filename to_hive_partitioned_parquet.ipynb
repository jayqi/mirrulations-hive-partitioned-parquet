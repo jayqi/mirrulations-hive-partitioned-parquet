{
 "cells": [
  {
   "cell_type": "code",
   "execution_count": 1,
   "id": "70cbd51b",
   "metadata": {},
   "outputs": [],
   "source": [
    "import duckdb\n"
   ]
  },
  {
   "cell_type": "code",
   "execution_count": 2,
   "id": "b16ff1f0",
   "metadata": {},
   "outputs": [],
   "source": [
    "conn = duckdb.connect()\n"
   ]
  },
  {
   "cell_type": "markdown",
   "id": "c351be85",
   "metadata": {},
   "source": [
    "## Dockets"
   ]
  },
  {
   "cell_type": "code",
   "execution_count": null,
   "id": "f8ca823c",
   "metadata": {},
   "outputs": [],
   "source": [
    "query = \"\"\"\\\n",
    "CREATE OR REPLACE VIEW src_docket_files AS\n",
    "SELECT\n",
    "  filename,\n",
    "  content,\n",
    "  split_part(filename, '/', 4) as agency_code,\n",
    "  split_part(filename, '/', 5) as docket_id,\n",
    "  split_part(split_part(filename, '/', 5), '-', 2) as year,\n",
    "FROM read_text('mirrulations/bulk/raw-data/*/*/*/docket/*.json');\n",
    "\n",
    "CREATE OR REPLACE VIEW docket_parsed AS\n",
    "SELECT\n",
    "  f.agency_code,\n",
    "  f.docket_id,\n",
    "  f.year,\n",
    "\n",
    "  json_extract_string(f.content, '$.data.attributes.docketType') as docket_type,\n",
    "  json_extract_string(f.content, '$.data.attributes.modifyDate')::TIMESTAMP as modify_date,\n",
    "  json_extract_string(f.content, '$.data.attributes.title') as title,\n",
    "\n",
    "  f.content AS raw_json\n",
    "FROM src_docket_files f;\n",
    "\n",
    "COPY (\n",
    "  SELECT *\n",
    "  FROM docket_parsed\n",
    ") TO 'parquet/dockets'\n",
    "  (FORMAT PARQUET,\n",
    "   PARTITION_BY (agency_code, year),\n",
    "   COMPRESSION SNAPPY);\n",
    "\"\"\"\n",
    "\n",
    "conn.query(query)\n"
   ]
  },
  {
   "cell_type": "markdown",
   "id": "49cb8765",
   "metadata": {},
   "source": [
    "## Documents"
   ]
  },
  {
   "cell_type": "code",
   "execution_count": 3,
   "id": "a6d41b69",
   "metadata": {},
   "outputs": [],
   "source": [
    "query = \"\"\"\\\n",
    "CREATE OR REPLACE VIEW src_document_files AS\n",
    "SELECT\n",
    "  filename,\n",
    "  content,\n",
    "  split_part(filename, '/', 4) as agency_code,\n",
    "  split_part(filename, '/', 5) as docket_id,\n",
    "  split_part(split_part(filename, '/', 5), '-', 2) as year,\n",
    "FROM read_text('mirrulations/bulk/raw-data/*/*/*/documents/*.json');\n",
    "\n",
    "CREATE OR REPLACE VIEW documents_parsed AS\n",
    "SELECT\n",
    "  f.agency_code,\n",
    "  f.docket_id,\n",
    "  f.year,\n",
    "\n",
    "  json_extract_string(f.content, '$.data.id') as document_id,\n",
    "\n",
    "  json_extract_string(f.content, '$.data.attributes.category') as category,\n",
    "\n",
    "  json_extract_string(f.content, '$.data.attributes.documentType') as document_type,\n",
    "\n",
    "  json_extract_string(f.content, '$.data.attributes.commentStartDate')::TIMESTAMP as comment_start_date,\n",
    "  json_extract_string(f.content, '$.data.attributes.commentEndDate')::TIMESTAMP as comment_end_date,\n",
    "  json_extract_string(f.content, '$.data.attributes.modifyDate')::TIMESTAMP as modify_date,\n",
    "  json_extract_string(f.content, '$.data.attributes.postedDate')::TIMESTAMP as posted_date,\n",
    "  json_extract_string(f.content, '$.data.attributes.receiveDate')::TIMESTAMP as receive_date,\n",
    "\n",
    "  json_extract_string(f.content, '$.data.attributes.pageCount')::INT as page_count,\n",
    "  json_extract_string(f.content, '$.data.attributes.withdrawn')::BOOLEAN as withdrawn,\n",
    "\n",
    "  f.content AS raw_json\n",
    "FROM src_document_files f;\n",
    "\n",
    "COPY (\n",
    "  SELECT *\n",
    "  FROM documents_parsed\n",
    ") TO 'parquet/documents'\n",
    "  (FORMAT PARQUET,\n",
    "   PARTITION_BY (agency_code, year),\n",
    "   COMPRESSION SNAPPY);\n",
    "\"\"\"\n",
    "\n",
    "conn.query(query)\n"
   ]
  },
  {
   "cell_type": "markdown",
   "id": "81f715fc",
   "metadata": {},
   "source": [
    "## Comments"
   ]
  },
  {
   "cell_type": "code",
   "execution_count": 4,
   "id": "4a967c89",
   "metadata": {},
   "outputs": [],
   "source": [
    "query = \"\"\"\\\n",
    "CREATE OR REPLACE VIEW src_comment_files AS\n",
    "SELECT\n",
    "  filename,\n",
    "  content,\n",
    "  split_part(filename, '/', 4) as agency_code,\n",
    "  split_part(filename, '/', 5) as docket_id,\n",
    "  split_part(split_part(filename, '/', 5), '-', 2) as year,\n",
    "\n",
    "FROM read_text('mirrulations/bulk/raw-data/*/*/*/comments/*.json');\n",
    "\n",
    "CREATE OR REPLACE VIEW comments_parsed AS\n",
    "SELECT\n",
    "  f.agency_code,\n",
    "  f.docket_id,\n",
    "  f.year,\n",
    "\n",
    "  json_extract_string(f.content, '$.data.id') as comment_id,\n",
    "\n",
    "  json_extract_string(f.content, '$.data.attributes.category') as category,\n",
    "  json_extract_string(f.content, '$.data.attributes.comment') as comment,\n",
    "  json_extract_string(f.content, '$.data.attributes.documentType') as document_type,\n",
    "  json_extract_string(f.content, '$.data.attributes.modifyDate')::TIMESTAMP as modify_date,\n",
    "  json_extract_string(f.content, '$.data.attributes.postedDate')::TIMESTAMP as posted_date,\n",
    "  json_extract_string(f.content, '$.data.attributes.receiveDate')::TIMESTAMP as receive_date,\n",
    "  json_extract_string(f.content, '$.data.attributes.subtype') as subtype,\n",
    "  json_extract_string(f.content, '$.data.attributes.title') as title,\n",
    "  json_extract_string(f.content, '$.data.attributes.withdrawn')::BOOLEAN as withdrawn,\n",
    "\n",
    "  f.content AS raw_json\n",
    "FROM src_comment_files f;\n",
    "\n",
    "COPY (\n",
    "  SELECT *\n",
    "  FROM comments_parsed\n",
    ") TO 'parquet/comments'\n",
    "  (FORMAT PARQUET,\n",
    "   PARTITION_BY (agency_code, year, docket_id),\n",
    "   COMPRESSION SNAPPY);\n",
    "\"\"\"\n",
    "\n",
    "conn.query(query)\n"
   ]
  },
  {
   "cell_type": "code",
   "execution_count": null,
   "id": "54cb91c5",
   "metadata": {},
   "outputs": [],
   "source": []
  }
 ],
 "metadata": {
  "kernelspec": {
   "display_name": ".venv",
   "language": "python",
   "name": "python3"
  },
  "language_info": {
   "codemirror_mode": {
    "name": "ipython",
    "version": 3
   },
   "file_extension": ".py",
   "mimetype": "text/x-python",
   "name": "python",
   "nbconvert_exporter": "python",
   "pygments_lexer": "ipython3",
   "version": "3.13.2"
  }
 },
 "nbformat": 4,
 "nbformat_minor": 5
}
